{
  "cells": [
    {
      "cell_type": "markdown",
      "metadata": {
        "id": "La64-IZRoJ_-"
      },
      "source": [
        "# STAT 207 Project 02 - Video Games Dataset\n",
        "BOYANG ZHAO, FINLEY MATTES, SARA DABBAGH"
      ]
    },
    {
      "cell_type": "markdown",
      "metadata": {
        "id": "lyLrPTfWoKAC"
      },
      "source": [
        "### Contribution Report\n",
        "\n",
        "In this contribution report, you should list the following:\n",
        "\n",
        "1. The netID for the project submission to be graded.  (Some groups have each member create their own version of the document, but only one needs to be submitted for grading.  Other groups have only one member compose and submit the project.)\n",
        "2. Names and netIDs of each team member.\n",
        "3. Contributions of each team member to the report.\n",
        "\n",
        "*For example:*\n",
        "\n",
        "*<u>Teammates:</u>*\n",
        "\n",
        "*doe105 should be graded.  John Smith (smith92) & Jane Doe (doe105) worked together on all parts of this project*,\n",
        "\n",
        "OR\n",
        "\n",
        "*doe105 should be graded*\n",
        "\n",
        "<i>1. Boyang Zhao (boyang7) completed parts 1 - 2</i>\n",
        "\n",
        "<i>2. Sara Dabbagh (sdabb2) completed part 3</i>\n",
        "\n",
        "<i>3. Finley Mattes (fmattes2) completed part 4</i>\n",
        "\n",
        "<i>We reviewed the full document before submission.</i>"
      ]
    },
    {
      "cell_type": "markdown",
      "metadata": {
        "id": "Azk9KgMBoKAE"
      },
      "source": [
        "## 1. Introduction"
      ]
    },
    {
      "cell_type": "markdown",
      "source": [
        "### Research Title\n",
        "A bit deeper research into the 'video_games.csv' dataset.\n",
        "### Dataset Introduction\n",
        "Originally collected and curated by Dr. Joe Cox, the 'video_games.csv' dataset contains information of video games from 2004 to 2008 and the features of the games including observable characteristics that may help estimate the likelihood of a video game becoming a block-buster title. For reference: https://corgis-edu.github.io/corgis/csv/video_games/\n",
        "### Populations/Samples\n",
        "Data in the 'video_games.csv' dataset represents sample, and our corresponding population of interest would be all video games released after 2000.\n",
        "### Research Questions\n",
        "1.What is the proportion of the video games in our dataset are rated by ESRB as 'M' for mature (recorded by the variable 'Release.Rating') ? What are a range of reasonable values for the proportion of all the video games that released after 2000 that are rated by ESRB as 'M' for mature? (We only care about whether the game is rated as 'M'.)\n",
        "\n",
        "2.Is the mean time that players reported completing everything in the each of the game (recorded as the variable 'Length.Completionists.Average' in this dataset) of all video games released after 2000, in hours, higher than 24 hours?\n",
        "### Contextual Importance\n",
        "For question 1, this may provide us insights into the prevalence of adult-oriented content in modern gaming (all video games released after 2000), which may influence market trends, target demographics, and parental concerns regarding video game consumption.\n",
        "\n",
        "For question 2, this may help us identify whether modern video games (all video games released after 2000) are designed to offer extensive content and engagement for players who aim to complete everything.\n",
        "\n",
        "\n"
      ],
      "metadata": {
        "id": "3Tfkr9T6rhBu"
      }
    },
    {
      "cell_type": "code",
      "execution_count": null,
      "metadata": {
        "id": "jUrdpYR1oKAG"
      },
      "outputs": [],
      "source": [
        "#Imports here\n",
        "import pandas as pd\n",
        "import matplotlib.pyplot as plt\n",
        "import seaborn as sns\n",
        "sns.set()"
      ]
    },
    {
      "cell_type": "code",
      "execution_count": null,
      "metadata": {
        "id": "X5D8wnIVoKAH"
      },
      "outputs": [],
      "source": [
        "df = pd.read_csv('video_games.csv', encoding = 'unicode-escape')"
      ]
    },
    {
      "cell_type": "code",
      "execution_count": null,
      "metadata": {
        "id": "D32KxMMioKAH",
        "colab": {
          "base_uri": "https://localhost:8080/",
          "height": 411
        },
        "outputId": "4e82a1b1-633e-4290-a4cc-70bea39dd16e"
      },
      "outputs": [
        {
          "output_type": "execute_result",
          "data": {
            "text/plain": [
              "                      Title  Features.Handheld?  Features.Max Players  \\\n",
              "0         Super Mario 64 DS                True                     1   \n",
              "1    Lumines: Puzzle Fusion                True                     1   \n",
              "2        WarioWare Touched!                True                     2   \n",
              "3  Hot Shots Golf: Open Tee                True                     1   \n",
              "4              Spider-Man 2                True                     1   \n",
              "\n",
              "   Features.Multiplatform?  Features.Online?                 Metadata.Genres  \\\n",
              "0                     True              True                          Action   \n",
              "1                     True              True                        Strategy   \n",
              "2                     True              True  Action,Racing / Driving,Sports   \n",
              "3                     True              True                          Sports   \n",
              "4                     True              True                          Action   \n",
              "\n",
              "   Metadata.Licensed? Metadata.Publishers  Metadata.Sequel?  \\\n",
              "0                True            Nintendo              True   \n",
              "1                True             Ubisoft              True   \n",
              "2                True            Nintendo              True   \n",
              "3                True                Sony              True   \n",
              "4                True          Activision              True   \n",
              "\n",
              "   Metrics.Review Score  ...  Length.Main + Extras.Average  \\\n",
              "0                    85  ...                     24.916667   \n",
              "1                    89  ...                      9.750000   \n",
              "2                    81  ...                      3.850000   \n",
              "3                    81  ...                      0.000000   \n",
              "4                    61  ...                     12.766667   \n",
              "\n",
              "   Length.Main + Extras.Leisure Length.Main + Extras.Median  \\\n",
              "0                     29.966667                   25.000000   \n",
              "1                      9.866667                    9.750000   \n",
              "2                      5.666667                    3.333333   \n",
              "3                      0.000000                    0.000000   \n",
              "4                     17.316667                   12.500000   \n",
              "\n",
              "  Length.Main + Extras.Polled  Length.Main + Extras.Rushed  \\\n",
              "0                          16                    18.333333   \n",
              "1                           2                     9.616667   \n",
              "2                          11                     2.783333   \n",
              "3                           0                     0.000000   \n",
              "4                          12                    10.483333   \n",
              "\n",
              "   Length.Main Story.Average  Length.Main Story.Leisure  \\\n",
              "0                  14.333333                  18.316667   \n",
              "1                  10.333333                  11.083333   \n",
              "2                   1.916667                   2.933333   \n",
              "3                   0.000000                   0.000000   \n",
              "4                   8.350000                  11.083333   \n",
              "\n",
              "   Length.Main Story.Median  Length.Main Story.Polled  \\\n",
              "0                 14.500000                        21   \n",
              "1                 10.000000                         3   \n",
              "2                  1.833333                        30   \n",
              "3                  0.000000                         0   \n",
              "4                  8.000000                        23   \n",
              "\n",
              "   Length.Main Story.Rushed  \n",
              "0                  9.700000  \n",
              "1                  9.583333  \n",
              "2                  1.433333  \n",
              "3                  0.000000  \n",
              "4                  5.333333  \n",
              "\n",
              "[5 rows x 36 columns]"
            ],
            "text/html": [
              "\n",
              "  <div id=\"df-a7d9a398-803f-4bfa-bdc2-befd4a8da3e5\" class=\"colab-df-container\">\n",
              "    <div>\n",
              "<style scoped>\n",
              "    .dataframe tbody tr th:only-of-type {\n",
              "        vertical-align: middle;\n",
              "    }\n",
              "\n",
              "    .dataframe tbody tr th {\n",
              "        vertical-align: top;\n",
              "    }\n",
              "\n",
              "    .dataframe thead th {\n",
              "        text-align: right;\n",
              "    }\n",
              "</style>\n",
              "<table border=\"1\" class=\"dataframe\">\n",
              "  <thead>\n",
              "    <tr style=\"text-align: right;\">\n",
              "      <th></th>\n",
              "      <th>Title</th>\n",
              "      <th>Features.Handheld?</th>\n",
              "      <th>Features.Max Players</th>\n",
              "      <th>Features.Multiplatform?</th>\n",
              "      <th>Features.Online?</th>\n",
              "      <th>Metadata.Genres</th>\n",
              "      <th>Metadata.Licensed?</th>\n",
              "      <th>Metadata.Publishers</th>\n",
              "      <th>Metadata.Sequel?</th>\n",
              "      <th>Metrics.Review Score</th>\n",
              "      <th>...</th>\n",
              "      <th>Length.Main + Extras.Average</th>\n",
              "      <th>Length.Main + Extras.Leisure</th>\n",
              "      <th>Length.Main + Extras.Median</th>\n",
              "      <th>Length.Main + Extras.Polled</th>\n",
              "      <th>Length.Main + Extras.Rushed</th>\n",
              "      <th>Length.Main Story.Average</th>\n",
              "      <th>Length.Main Story.Leisure</th>\n",
              "      <th>Length.Main Story.Median</th>\n",
              "      <th>Length.Main Story.Polled</th>\n",
              "      <th>Length.Main Story.Rushed</th>\n",
              "    </tr>\n",
              "  </thead>\n",
              "  <tbody>\n",
              "    <tr>\n",
              "      <th>0</th>\n",
              "      <td>Super Mario 64 DS</td>\n",
              "      <td>True</td>\n",
              "      <td>1</td>\n",
              "      <td>True</td>\n",
              "      <td>True</td>\n",
              "      <td>Action</td>\n",
              "      <td>True</td>\n",
              "      <td>Nintendo</td>\n",
              "      <td>True</td>\n",
              "      <td>85</td>\n",
              "      <td>...</td>\n",
              "      <td>24.916667</td>\n",
              "      <td>29.966667</td>\n",
              "      <td>25.000000</td>\n",
              "      <td>16</td>\n",
              "      <td>18.333333</td>\n",
              "      <td>14.333333</td>\n",
              "      <td>18.316667</td>\n",
              "      <td>14.500000</td>\n",
              "      <td>21</td>\n",
              "      <td>9.700000</td>\n",
              "    </tr>\n",
              "    <tr>\n",
              "      <th>1</th>\n",
              "      <td>Lumines: Puzzle Fusion</td>\n",
              "      <td>True</td>\n",
              "      <td>1</td>\n",
              "      <td>True</td>\n",
              "      <td>True</td>\n",
              "      <td>Strategy</td>\n",
              "      <td>True</td>\n",
              "      <td>Ubisoft</td>\n",
              "      <td>True</td>\n",
              "      <td>89</td>\n",
              "      <td>...</td>\n",
              "      <td>9.750000</td>\n",
              "      <td>9.866667</td>\n",
              "      <td>9.750000</td>\n",
              "      <td>2</td>\n",
              "      <td>9.616667</td>\n",
              "      <td>10.333333</td>\n",
              "      <td>11.083333</td>\n",
              "      <td>10.000000</td>\n",
              "      <td>3</td>\n",
              "      <td>9.583333</td>\n",
              "    </tr>\n",
              "    <tr>\n",
              "      <th>2</th>\n",
              "      <td>WarioWare Touched!</td>\n",
              "      <td>True</td>\n",
              "      <td>2</td>\n",
              "      <td>True</td>\n",
              "      <td>True</td>\n",
              "      <td>Action,Racing / Driving,Sports</td>\n",
              "      <td>True</td>\n",
              "      <td>Nintendo</td>\n",
              "      <td>True</td>\n",
              "      <td>81</td>\n",
              "      <td>...</td>\n",
              "      <td>3.850000</td>\n",
              "      <td>5.666667</td>\n",
              "      <td>3.333333</td>\n",
              "      <td>11</td>\n",
              "      <td>2.783333</td>\n",
              "      <td>1.916667</td>\n",
              "      <td>2.933333</td>\n",
              "      <td>1.833333</td>\n",
              "      <td>30</td>\n",
              "      <td>1.433333</td>\n",
              "    </tr>\n",
              "    <tr>\n",
              "      <th>3</th>\n",
              "      <td>Hot Shots Golf: Open Tee</td>\n",
              "      <td>True</td>\n",
              "      <td>1</td>\n",
              "      <td>True</td>\n",
              "      <td>True</td>\n",
              "      <td>Sports</td>\n",
              "      <td>True</td>\n",
              "      <td>Sony</td>\n",
              "      <td>True</td>\n",
              "      <td>81</td>\n",
              "      <td>...</td>\n",
              "      <td>0.000000</td>\n",
              "      <td>0.000000</td>\n",
              "      <td>0.000000</td>\n",
              "      <td>0</td>\n",
              "      <td>0.000000</td>\n",
              "      <td>0.000000</td>\n",
              "      <td>0.000000</td>\n",
              "      <td>0.000000</td>\n",
              "      <td>0</td>\n",
              "      <td>0.000000</td>\n",
              "    </tr>\n",
              "    <tr>\n",
              "      <th>4</th>\n",
              "      <td>Spider-Man 2</td>\n",
              "      <td>True</td>\n",
              "      <td>1</td>\n",
              "      <td>True</td>\n",
              "      <td>True</td>\n",
              "      <td>Action</td>\n",
              "      <td>True</td>\n",
              "      <td>Activision</td>\n",
              "      <td>True</td>\n",
              "      <td>61</td>\n",
              "      <td>...</td>\n",
              "      <td>12.766667</td>\n",
              "      <td>17.316667</td>\n",
              "      <td>12.500000</td>\n",
              "      <td>12</td>\n",
              "      <td>10.483333</td>\n",
              "      <td>8.350000</td>\n",
              "      <td>11.083333</td>\n",
              "      <td>8.000000</td>\n",
              "      <td>23</td>\n",
              "      <td>5.333333</td>\n",
              "    </tr>\n",
              "  </tbody>\n",
              "</table>\n",
              "<p>5 rows × 36 columns</p>\n",
              "</div>\n",
              "    <div class=\"colab-df-buttons\">\n",
              "\n",
              "  <div class=\"colab-df-container\">\n",
              "    <button class=\"colab-df-convert\" onclick=\"convertToInteractive('df-a7d9a398-803f-4bfa-bdc2-befd4a8da3e5')\"\n",
              "            title=\"Convert this dataframe to an interactive table.\"\n",
              "            style=\"display:none;\">\n",
              "\n",
              "  <svg xmlns=\"http://www.w3.org/2000/svg\" height=\"24px\" viewBox=\"0 -960 960 960\">\n",
              "    <path d=\"M120-120v-720h720v720H120Zm60-500h600v-160H180v160Zm220 220h160v-160H400v160Zm0 220h160v-160H400v160ZM180-400h160v-160H180v160Zm440 0h160v-160H620v160ZM180-180h160v-160H180v160Zm440 0h160v-160H620v160Z\"/>\n",
              "  </svg>\n",
              "    </button>\n",
              "\n",
              "  <style>\n",
              "    .colab-df-container {\n",
              "      display:flex;\n",
              "      gap: 12px;\n",
              "    }\n",
              "\n",
              "    .colab-df-convert {\n",
              "      background-color: #E8F0FE;\n",
              "      border: none;\n",
              "      border-radius: 50%;\n",
              "      cursor: pointer;\n",
              "      display: none;\n",
              "      fill: #1967D2;\n",
              "      height: 32px;\n",
              "      padding: 0 0 0 0;\n",
              "      width: 32px;\n",
              "    }\n",
              "\n",
              "    .colab-df-convert:hover {\n",
              "      background-color: #E2EBFA;\n",
              "      box-shadow: 0px 1px 2px rgba(60, 64, 67, 0.3), 0px 1px 3px 1px rgba(60, 64, 67, 0.15);\n",
              "      fill: #174EA6;\n",
              "    }\n",
              "\n",
              "    .colab-df-buttons div {\n",
              "      margin-bottom: 4px;\n",
              "    }\n",
              "\n",
              "    [theme=dark] .colab-df-convert {\n",
              "      background-color: #3B4455;\n",
              "      fill: #D2E3FC;\n",
              "    }\n",
              "\n",
              "    [theme=dark] .colab-df-convert:hover {\n",
              "      background-color: #434B5C;\n",
              "      box-shadow: 0px 1px 3px 1px rgba(0, 0, 0, 0.15);\n",
              "      filter: drop-shadow(0px 1px 2px rgba(0, 0, 0, 0.3));\n",
              "      fill: #FFFFFF;\n",
              "    }\n",
              "  </style>\n",
              "\n",
              "    <script>\n",
              "      const buttonEl =\n",
              "        document.querySelector('#df-a7d9a398-803f-4bfa-bdc2-befd4a8da3e5 button.colab-df-convert');\n",
              "      buttonEl.style.display =\n",
              "        google.colab.kernel.accessAllowed ? 'block' : 'none';\n",
              "\n",
              "      async function convertToInteractive(key) {\n",
              "        const element = document.querySelector('#df-a7d9a398-803f-4bfa-bdc2-befd4a8da3e5');\n",
              "        const dataTable =\n",
              "          await google.colab.kernel.invokeFunction('convertToInteractive',\n",
              "                                                    [key], {});\n",
              "        if (!dataTable) return;\n",
              "\n",
              "        const docLinkHtml = 'Like what you see? Visit the ' +\n",
              "          '<a target=\"_blank\" href=https://colab.research.google.com/notebooks/data_table.ipynb>data table notebook</a>'\n",
              "          + ' to learn more about interactive tables.';\n",
              "        element.innerHTML = '';\n",
              "        dataTable['output_type'] = 'display_data';\n",
              "        await google.colab.output.renderOutput(dataTable, element);\n",
              "        const docLink = document.createElement('div');\n",
              "        docLink.innerHTML = docLinkHtml;\n",
              "        element.appendChild(docLink);\n",
              "      }\n",
              "    </script>\n",
              "  </div>\n",
              "\n",
              "\n",
              "<div id=\"df-d84c8981-42f1-4a7e-a78a-63e7a9b5474b\">\n",
              "  <button class=\"colab-df-quickchart\" onclick=\"quickchart('df-d84c8981-42f1-4a7e-a78a-63e7a9b5474b')\"\n",
              "            title=\"Suggest charts\"\n",
              "            style=\"display:none;\">\n",
              "\n",
              "<svg xmlns=\"http://www.w3.org/2000/svg\" height=\"24px\"viewBox=\"0 0 24 24\"\n",
              "     width=\"24px\">\n",
              "    <g>\n",
              "        <path d=\"M19 3H5c-1.1 0-2 .9-2 2v14c0 1.1.9 2 2 2h14c1.1 0 2-.9 2-2V5c0-1.1-.9-2-2-2zM9 17H7v-7h2v7zm4 0h-2V7h2v10zm4 0h-2v-4h2v4z\"/>\n",
              "    </g>\n",
              "</svg>\n",
              "  </button>\n",
              "\n",
              "<style>\n",
              "  .colab-df-quickchart {\n",
              "      --bg-color: #E8F0FE;\n",
              "      --fill-color: #1967D2;\n",
              "      --hover-bg-color: #E2EBFA;\n",
              "      --hover-fill-color: #174EA6;\n",
              "      --disabled-fill-color: #AAA;\n",
              "      --disabled-bg-color: #DDD;\n",
              "  }\n",
              "\n",
              "  [theme=dark] .colab-df-quickchart {\n",
              "      --bg-color: #3B4455;\n",
              "      --fill-color: #D2E3FC;\n",
              "      --hover-bg-color: #434B5C;\n",
              "      --hover-fill-color: #FFFFFF;\n",
              "      --disabled-bg-color: #3B4455;\n",
              "      --disabled-fill-color: #666;\n",
              "  }\n",
              "\n",
              "  .colab-df-quickchart {\n",
              "    background-color: var(--bg-color);\n",
              "    border: none;\n",
              "    border-radius: 50%;\n",
              "    cursor: pointer;\n",
              "    display: none;\n",
              "    fill: var(--fill-color);\n",
              "    height: 32px;\n",
              "    padding: 0;\n",
              "    width: 32px;\n",
              "  }\n",
              "\n",
              "  .colab-df-quickchart:hover {\n",
              "    background-color: var(--hover-bg-color);\n",
              "    box-shadow: 0 1px 2px rgba(60, 64, 67, 0.3), 0 1px 3px 1px rgba(60, 64, 67, 0.15);\n",
              "    fill: var(--button-hover-fill-color);\n",
              "  }\n",
              "\n",
              "  .colab-df-quickchart-complete:disabled,\n",
              "  .colab-df-quickchart-complete:disabled:hover {\n",
              "    background-color: var(--disabled-bg-color);\n",
              "    fill: var(--disabled-fill-color);\n",
              "    box-shadow: none;\n",
              "  }\n",
              "\n",
              "  .colab-df-spinner {\n",
              "    border: 2px solid var(--fill-color);\n",
              "    border-color: transparent;\n",
              "    border-bottom-color: var(--fill-color);\n",
              "    animation:\n",
              "      spin 1s steps(1) infinite;\n",
              "  }\n",
              "\n",
              "  @keyframes spin {\n",
              "    0% {\n",
              "      border-color: transparent;\n",
              "      border-bottom-color: var(--fill-color);\n",
              "      border-left-color: var(--fill-color);\n",
              "    }\n",
              "    20% {\n",
              "      border-color: transparent;\n",
              "      border-left-color: var(--fill-color);\n",
              "      border-top-color: var(--fill-color);\n",
              "    }\n",
              "    30% {\n",
              "      border-color: transparent;\n",
              "      border-left-color: var(--fill-color);\n",
              "      border-top-color: var(--fill-color);\n",
              "      border-right-color: var(--fill-color);\n",
              "    }\n",
              "    40% {\n",
              "      border-color: transparent;\n",
              "      border-right-color: var(--fill-color);\n",
              "      border-top-color: var(--fill-color);\n",
              "    }\n",
              "    60% {\n",
              "      border-color: transparent;\n",
              "      border-right-color: var(--fill-color);\n",
              "    }\n",
              "    80% {\n",
              "      border-color: transparent;\n",
              "      border-right-color: var(--fill-color);\n",
              "      border-bottom-color: var(--fill-color);\n",
              "    }\n",
              "    90% {\n",
              "      border-color: transparent;\n",
              "      border-bottom-color: var(--fill-color);\n",
              "    }\n",
              "  }\n",
              "</style>\n",
              "\n",
              "  <script>\n",
              "    async function quickchart(key) {\n",
              "      const quickchartButtonEl =\n",
              "        document.querySelector('#' + key + ' button');\n",
              "      quickchartButtonEl.disabled = true;  // To prevent multiple clicks.\n",
              "      quickchartButtonEl.classList.add('colab-df-spinner');\n",
              "      try {\n",
              "        const charts = await google.colab.kernel.invokeFunction(\n",
              "            'suggestCharts', [key], {});\n",
              "      } catch (error) {\n",
              "        console.error('Error during call to suggestCharts:', error);\n",
              "      }\n",
              "      quickchartButtonEl.classList.remove('colab-df-spinner');\n",
              "      quickchartButtonEl.classList.add('colab-df-quickchart-complete');\n",
              "    }\n",
              "    (() => {\n",
              "      let quickchartButtonEl =\n",
              "        document.querySelector('#df-d84c8981-42f1-4a7e-a78a-63e7a9b5474b button');\n",
              "      quickchartButtonEl.style.display =\n",
              "        google.colab.kernel.accessAllowed ? 'block' : 'none';\n",
              "    })();\n",
              "  </script>\n",
              "</div>\n",
              "\n",
              "    </div>\n",
              "  </div>\n"
            ],
            "application/vnd.google.colaboratory.intrinsic+json": {
              "type": "dataframe",
              "variable_name": "df"
            }
          },
          "metadata": {},
          "execution_count": 7
        }
      ],
      "source": [
        "df.head()"
      ]
    },
    {
      "cell_type": "code",
      "execution_count": null,
      "metadata": {
        "id": "2j4V29YQoKAI",
        "outputId": "533d96f2-ce83-40f8-8d73-0b69a2c729f0",
        "colab": {
          "base_uri": "https://localhost:8080/"
        }
      },
      "outputs": [
        {
          "output_type": "execute_result",
          "data": {
            "text/plain": [
              "(1212, 36)"
            ]
          },
          "metadata": {},
          "execution_count": 8
        }
      ],
      "source": [
        "df.shape"
      ]
    },
    {
      "cell_type": "markdown",
      "metadata": {
        "id": "Ir04iVMboKAJ"
      },
      "source": [
        "## 2. Confidence Interval Analytical Tasks"
      ]
    },
    {
      "cell_type": "markdown",
      "metadata": {
        "id": "af3xt14AoKAJ"
      },
      "source": [
        "### Our Research Question\n",
        "What is the proportion of the video games in our dataset are rated by ESRB as 'M' for mature (recorded by the variable 'Release.Rating') ? What are a range of reasonable values for the proportion of all the video games that released after 2000 that are rated by ESRB as 'M' for mature? (We only care about whether the game is rated as 'M'.)\n",
        "\n",
        "\n"
      ]
    },
    {
      "cell_type": "markdown",
      "source": [
        "### Dataset Cleaning\n"
      ],
      "metadata": {
        "id": "zrinQ60-5FVx"
      }
    },
    {
      "cell_type": "code",
      "execution_count": null,
      "metadata": {
        "id": "yPCGNkOOoKAJ",
        "colab": {
          "base_uri": "https://localhost:8080/"
        },
        "outputId": "be58dac4-0d7c-4188-e9c6-a790a1f067fc"
      },
      "outputs": [
        {
          "output_type": "execute_result",
          "data": {
            "text/plain": [
              "np.int64(0)"
            ]
          },
          "metadata": {},
          "execution_count": 9
        }
      ],
      "source": [
        "df['Release.Rating'].isna().sum()"
      ]
    },
    {
      "cell_type": "code",
      "execution_count": null,
      "metadata": {
        "id": "6AEnJ0s1oKAK",
        "colab": {
          "base_uri": "https://localhost:8080/"
        },
        "outputId": "4b582aad-63d5-477f-c8e1-5ea4adb87ebd"
      },
      "outputs": [
        {
          "output_type": "execute_result",
          "data": {
            "text/plain": [
              "array(['E', 'M', 'T'], dtype=object)"
            ]
          },
          "metadata": {},
          "execution_count": 10
        }
      ],
      "source": [
        "df['Release.Rating'].unique()"
      ]
    },
    {
      "cell_type": "markdown",
      "source": [
        "Upon conducting the dataset cleaning process, we found that there is no na values or any unique values that do not match with our expected possible outcomes. Therefore, we decided to keep all observations."
      ],
      "metadata": {
        "id": "bQv042Xlo8Rr"
      }
    },
    {
      "cell_type": "markdown",
      "source": [
        "### Descriptive Analytics"
      ],
      "metadata": {
        "id": "E73VyLfJ69pf"
      }
    },
    {
      "cell_type": "code",
      "execution_count": null,
      "metadata": {
        "id": "En3A88GcoKAK",
        "colab": {
          "base_uri": "https://localhost:8080/"
        },
        "outputId": "ba52e375-c6c5-4e2f-8e3c-907b0f05741c"
      },
      "outputs": [
        {
          "output_type": "execute_result",
          "data": {
            "text/plain": [
              "1212"
            ]
          },
          "metadata": {},
          "execution_count": 11
        }
      ],
      "source": [
        "#sample size\n",
        "len(df)"
      ]
    },
    {
      "cell_type": "code",
      "execution_count": null,
      "metadata": {
        "id": "qLiApMgaoKAL",
        "colab": {
          "base_uri": "https://localhost:8080/"
        },
        "outputId": "b8d8f566-53fe-48e8-af64-efeaf1dfcfc7"
      },
      "outputs": [
        {
          "output_type": "execute_result",
          "data": {
            "text/plain": [
              "0.2070957095709571"
            ]
          },
          "metadata": {},
          "execution_count": 12
        }
      ],
      "source": [
        "#Numerical Summary\n",
        "len(df[df['Release.Rating']=='M'])/len(df)"
      ]
    },
    {
      "cell_type": "markdown",
      "source": [
        "Around 20.71% of games recorded in the 'video_games.csv' are rated by ESRB as 'M' for mature, and rest are not rated as for mature, and are either rated as for teen or for everyone"
      ],
      "metadata": {
        "id": "P7WUQZyT9iM1"
      }
    },
    {
      "cell_type": "markdown",
      "source": [
        "### Confidence Interval\n",
        "i. Our confidence level is 90%\n",
        "\n",
        "ii. simulation:"
      ],
      "metadata": {
        "id": "1QXWE9Ba97wc"
      }
    },
    {
      "cell_type": "code",
      "source": [
        "sampling_dist = []\n",
        "for i in range(10000):\n",
        "  sample_df = df.sample(1212,replace=True)\n",
        "  sampling_dist.append(len(sample_df[sample_df['Release.Rating']=='M'])/len(sample_df))\n",
        "sampling_dist = pd.DataFrame({'x':sampling_dist})"
      ],
      "metadata": {
        "id": "5Qg8i0IH9b_r"
      },
      "execution_count": null,
      "outputs": []
    },
    {
      "cell_type": "code",
      "source": [
        "sampling_dist.hist()"
      ],
      "metadata": {
        "id": "Rk7k5RuX_fhA",
        "colab": {
          "base_uri": "https://localhost:8080/",
          "height": 474
        },
        "outputId": "4c6ff424-a77c-474a-d7fe-b80969685f81"
      },
      "execution_count": null,
      "outputs": [
        {
          "output_type": "execute_result",
          "data": {
            "text/plain": [
              "array([[<Axes: title={'center': 'x'}>]], dtype=object)"
            ]
          },
          "metadata": {},
          "execution_count": 14
        },
        {
          "output_type": "display_data",
          "data": {
            "text/plain": [
              "<Figure size 640x480 with 1 Axes>"
            ],
            "image/png": "[encoded data removed]"
          },
          "metadata": {}
        }
      ]
    },
    {
      "cell_type": "markdown",
      "source": [
        "iii. Confidence Interval Estimation:"
      ],
      "metadata": {
        "id": "hddgsqI8_RUx"
      }
    },
    {
      "cell_type": "code",
      "execution_count": null,
      "metadata": {
        "id": "1g7Qe4gvoKAL",
        "colab": {
          "base_uri": "https://localhost:8080/"
        },
        "outputId": "cbbc60b0-b015-4926-809f-267ed506b1fa"
      },
      "outputs": [
        {
          "output_type": "stream",
          "name": "stdout",
          "text": [
            "0.22607260726072606\n"
          ]
        }
      ],
      "source": [
        "#upper bound\n",
        "print(sampling_dist['x'].quantile(0.95))"
      ]
    },
    {
      "cell_type": "code",
      "execution_count": null,
      "metadata": {
        "id": "z9EoEKE0oKAL",
        "colab": {
          "base_uri": "https://localhost:8080/"
        },
        "outputId": "e7c96e31-b2dc-4bfc-8dfc-8f1ab03d6ac9"
      },
      "outputs": [
        {
          "output_type": "stream",
          "name": "stdout",
          "text": [
            "0.18811881188118812\n"
          ]
        }
      ],
      "source": [
        "#lower bound\n",
        "print(sampling_dist['x'].quantile(0.05))"
      ]
    },
    {
      "cell_type": "markdown",
      "source": [
        "### Confidence Interval Interpretion\n",
        "We are 90% confident that the population proportion (proportion of all video games after 2000) being rated by ESRB as 'M' for mature is contained in the interval (0.1881,0.2269)"
      ],
      "metadata": {
        "id": "662d-zkG_13k"
      }
    },
    {
      "cell_type": "markdown",
      "metadata": {
        "id": "vgj8e1oOoKAM"
      },
      "source": [
        "## 3. Hypothesis Testing Analytical Tasks"
      ]
    },
    {
      "cell_type": "markdown",
      "source": [
        "### Research Question\n",
        "\n",
        "What are the key summary measures (center, spread, and shape) of average completion times, and does the data suggest that most games are designed to be completed in under 24 hours, or that modern games are more likely to exceed 24 hours of completion time?"
      ],
      "metadata": {
        "id": "07MEtgW4bftA"
      }
    },
    {
      "cell_type": "markdown",
      "source": [
        "### Data Cleaning"
      ],
      "metadata": {
        "id": "fq8biO0ze3Wv"
      }
    },
    {
      "cell_type": "code",
      "execution_count": null,
      "metadata": {
        "id": "yckn6G_RoKAM",
        "colab": {
          "base_uri": "https://localhost:8080/"
        },
        "outputId": "3be0b9d5-107b-44f4-ab59-6912073816f2"
      },
      "outputs": [
        {
          "output_type": "execute_result",
          "data": {
            "text/plain": [
              "np.int64(0)"
            ]
          },
          "metadata": {},
          "execution_count": 17
        }
      ],
      "source": [
        "df[\"Length.Completionists.Average\"].isnull().sum()"
      ]
    },
    {
      "cell_type": "code",
      "execution_count": null,
      "metadata": {
        "id": "v8W6jWmvoKAM",
        "colab": {
          "base_uri": "https://localhost:8080/",
          "height": 335
        },
        "outputId": "27f26082-dc75-4257-9a7a-d43a2e7c3ac8"
      },
      "outputs": [
        {
          "output_type": "execute_result",
          "data": {
            "text/plain": [
              "count    1212.000000\n",
              "mean       19.808223\n",
              "std        46.634546\n",
              "min         0.000000\n",
              "25%         0.000000\n",
              "50%         6.000000\n",
              "75%        21.554167\n",
              "max       683.133333\n",
              "Name: Length.Completionists.Average, dtype: float64"
            ],
            "text/html": [
              "<div>\n",
              "<style scoped>\n",
              "    .dataframe tbody tr th:only-of-type {\n",
              "        vertical-align: middle;\n",
              "    }\n",
              "\n",
              "    .dataframe tbody tr th {\n",
              "        vertical-align: top;\n",
              "    }\n",
              "\n",
              "    .dataframe thead th {\n",
              "        text-align: right;\n",
              "    }\n",
              "</style>\n",
              "<table border=\"1\" class=\"dataframe\">\n",
              "  <thead>\n",
              "    <tr style=\"text-align: right;\">\n",
              "      <th></th>\n",
              "      <th>Length.Completionists.Average</th>\n",
              "    </tr>\n",
              "  </thead>\n",
              "  <tbody>\n",
              "    <tr>\n",
              "      <th>count</th>\n",
              "      <td>1212.000000</td>\n",
              "    </tr>\n",
              "    <tr>\n",
              "      <th>mean</th>\n",
              "      <td>19.808223</td>\n",
              "    </tr>\n",
              "    <tr>\n",
              "      <th>std</th>\n",
              "      <td>46.634546</td>\n",
              "    </tr>\n",
              "    <tr>\n",
              "      <th>min</th>\n",
              "      <td>0.000000</td>\n",
              "    </tr>\n",
              "    <tr>\n",
              "      <th>25%</th>\n",
              "      <td>0.000000</td>\n",
              "    </tr>\n",
              "    <tr>\n",
              "      <th>50%</th>\n",
              "      <td>6.000000</td>\n",
              "    </tr>\n",
              "    <tr>\n",
              "      <th>75%</th>\n",
              "      <td>21.554167</td>\n",
              "    </tr>\n",
              "    <tr>\n",
              "      <th>max</th>\n",
              "      <td>683.133333</td>\n",
              "    </tr>\n",
              "  </tbody>\n",
              "</table>\n",
              "</div><br><label><b>dtype:</b> float64</label>"
            ]
          },
          "metadata": {},
          "execution_count": 18
        }
      ],
      "source": [
        "df[\"Length.Completionists.Average\"].describe()"
      ]
    },
    {
      "cell_type": "code",
      "source": [
        "print((df[\"Length.Completionists.Average\"] == 0).sum())"
      ],
      "metadata": {
        "id": "6aF-zWicfrqX",
        "colab": {
          "base_uri": "https://localhost:8080/"
        },
        "outputId": "67c34ba4-aef1-4870-9fea-d8384d1c15be"
      },
      "execution_count": null,
      "outputs": [
        {
          "output_type": "stream",
          "name": "stdout",
          "text": [
            "542\n"
          ]
        }
      ]
    },
    {
      "cell_type": "markdown",
      "source": [
        "Upon analyzing the numerical summary of my average completion time variable, I see that my minimum value is 0.0, which is unusual. It appears that there are 542 observations with this value recorded, likely meaning there are no average completion times recorded for these games. Thus, I will drop these observations so that I may accurately observe our variable of interest."
      ],
      "metadata": {
        "id": "Va-ePOQ3fYHP"
      }
    },
    {
      "cell_type": "code",
      "execution_count": null,
      "metadata": {
        "id": "PskqGMPyoKAN"
      },
      "outputs": [],
      "source": [
        "cleaned_df = df[df[\"Length.Completionists.Average\"] > 0]"
      ]
    },
    {
      "cell_type": "markdown",
      "source": [
        "### Descriptive analytics"
      ],
      "metadata": {
        "id": "xE5CDkXCg0I0"
      }
    },
    {
      "cell_type": "code",
      "source": [
        "cleaned_df[\"Length.Completionists.Average\"].describe()"
      ],
      "metadata": {
        "id": "VtpScFolg16G",
        "colab": {
          "base_uri": "https://localhost:8080/",
          "height": 335
        },
        "outputId": "bec6e6b3-649f-41a5-a92a-e2ac5b9f55b1"
      },
      "execution_count": null,
      "outputs": [
        {
          "output_type": "execute_result",
          "data": {
            "text/plain": [
              "count    670.000000\n",
              "mean      35.832189\n",
              "std       57.979987\n",
              "min        0.500000\n",
              "25%       10.816667\n",
              "50%       18.891667\n",
              "75%       39.954167\n",
              "max      683.133333\n",
              "Name: Length.Completionists.Average, dtype: float64"
            ],
            "text/html": [
              "<div>\n",
              "<style scoped>\n",
              "    .dataframe tbody tr th:only-of-type {\n",
              "        vertical-align: middle;\n",
              "    }\n",
              "\n",
              "    .dataframe tbody tr th {\n",
              "        vertical-align: top;\n",
              "    }\n",
              "\n",
              "    .dataframe thead th {\n",
              "        text-align: right;\n",
              "    }\n",
              "</style>\n",
              "<table border=\"1\" class=\"dataframe\">\n",
              "  <thead>\n",
              "    <tr style=\"text-align: right;\">\n",
              "      <th></th>\n",
              "      <th>Length.Completionists.Average</th>\n",
              "    </tr>\n",
              "  </thead>\n",
              "  <tbody>\n",
              "    <tr>\n",
              "      <th>count</th>\n",
              "      <td>670.000000</td>\n",
              "    </tr>\n",
              "    <tr>\n",
              "      <th>mean</th>\n",
              "      <td>35.832189</td>\n",
              "    </tr>\n",
              "    <tr>\n",
              "      <th>std</th>\n",
              "      <td>57.979987</td>\n",
              "    </tr>\n",
              "    <tr>\n",
              "      <th>min</th>\n",
              "      <td>0.500000</td>\n",
              "    </tr>\n",
              "    <tr>\n",
              "      <th>25%</th>\n",
              "      <td>10.816667</td>\n",
              "    </tr>\n",
              "    <tr>\n",
              "      <th>50%</th>\n",
              "      <td>18.891667</td>\n",
              "    </tr>\n",
              "    <tr>\n",
              "      <th>75%</th>\n",
              "      <td>39.954167</td>\n",
              "    </tr>\n",
              "    <tr>\n",
              "      <th>max</th>\n",
              "      <td>683.133333</td>\n",
              "    </tr>\n",
              "  </tbody>\n",
              "</table>\n",
              "</div><br><label><b>dtype:</b> float64</label>"
            ]
          },
          "metadata": {},
          "execution_count": 21
        }
      ]
    },
    {
      "cell_type": "markdown",
      "source": [
        "My median for the average completion time variable is 18.891, and the mean is 35.832. I'm curious as to why these values are so different. We will investigate further using visualizations."
      ],
      "metadata": {
        "id": "uhlR8xsThV5L"
      }
    },
    {
      "cell_type": "code",
      "execution_count": null,
      "metadata": {
        "id": "UU50VEv2oKAN",
        "colab": {
          "base_uri": "https://localhost:8080/",
          "height": 480
        },
        "outputId": "24e39a42-3aaf-46a3-85ce-5a51cb6c5a93"
      },
      "outputs": [
        {
          "output_type": "display_data",
          "data": {
            "text/plain": [
              "<Figure size 640x480 with 1 Axes>"
            ],
            "image/png": "[encoded data removed]"
          },
          "metadata": {}
        }
      ],
      "source": [
        "sns.histplot(df[\"Length.Completionists.Average\"])\n",
        "plt.xlabel(\"Average Completion Time (hours)\")\n",
        "plt.title(\"Distribution of Average Completion Time\")\n",
        "plt.show()"
      ]
    },
    {
      "cell_type": "code",
      "execution_count": null,
      "metadata": {
        "id": "mn3s9tsEoKAN",
        "colab": {
          "base_uri": "https://localhost:8080/",
          "height": 480
        },
        "outputId": "584bc9ec-7552-4ff7-8a30-10d13d04cf67"
      },
      "outputs": [
        {
          "output_type": "display_data",
          "data": {
            "text/plain": [
              "<Figure size 640x480 with 1 Axes>"
            ],
            "image/png": "[encoded data removed]"
          },
          "metadata": {}
        }
      ],
      "source": [
        "sns.boxplot(x=df[\"Length.Completionists.Average\"])\n",
        "plt.xlabel(\"Completionist Length (Hours)\")\n",
        "plt.title(\"Boxplot of Average Completion Time\")\n",
        "plt.show()"
      ]
    },
    {
      "cell_type": "markdown",
      "source": [
        "My histogram demonstrates that there is a strong skew to the left, with most observations having a moderately low average completion time, as compared to my far right outliers. The graph extends to observations close to 700 hours, as confirmed by the maximum value seen in the numerical summary. This tells me that while most games have a relatively small completion time, there are a handful of outliers (games with respectively very large completion times.)\n",
        "\n",
        "My boxplot confirms that we have a large number of outliers, as seen by the values that fall outside of the graph's whiskers. While the outliers that are under 150 hours aren't that concerning, I'm more concerned by the few observations that fall on the far right side of my boxplot. These could be affecting the mean, making the average completion time look much larger than what most players experience.\n",
        "\n",
        "Both graphs and my numerical summary show that we have extreme outliers that could lead to a false conclusion regarding whether most games are to be completed in under or over 24 hours. These hint at the fact that perhaps the median should be analyzed for the center of our variable of interest, rather than the mean."
      ],
      "metadata": {
        "id": "GnbHPxHkidIz"
      }
    },
    {
      "cell_type": "markdown",
      "source": [
        "### Hypothesis Test\n",
        "**Parameter of interest**:\n",
        "\n",
        "μ = the true population median of average completion times in hours (\"Length.Completionists.Average\") for completionist playthroughs.\n",
        "\n",
        "**Null Hypothesis**:\n",
        "\n",
        "μ ≤ 24 (The median average completion time is less than or equal to 24 hours.)\n",
        "\n",
        "**Alternative Hypothesis**:\n",
        "\n",
        "μ > 24 (The median average completion time is greater than 24 hours.)\n",
        "\n",
        "\n",
        "**Significance level**: We will be testing at a α = 0.05 significance level."
      ],
      "metadata": {
        "id": "dXPk_m8wnD0j"
      }
    },
    {
      "cell_type": "markdown",
      "source": [
        "**Checking conditions for the test:**\n",
        "\n",
        "Before conducting the hypothesis test, we need to check that key conditions are met, so that we know our results are valid. First, the dataset is considered representative of the larger population of video games, allowing us to generalize our findings. Second, completion times for each game are independent observations since game represents a distinct data point. So, we may proceed."
      ],
      "metadata": {
        "id": "s52Aoftlykxs"
      }
    },
    {
      "cell_type": "markdown",
      "source": [
        "*Adopting skeptic's claim*"
      ],
      "metadata": {
        "id": "ONLOcRB1SH7s"
      }
    },
    {
      "cell_type": "code",
      "source": [
        "cleaned_df['skeptic'] = cleaned_df[\"Length.Completionists.Average\"] - cleaned_df[\"Length.Completionists.Average\"].median() + 24\n",
        "cleaned_df['skeptic']"
      ],
      "metadata": {
        "id": "V28WXe12SR42",
        "colab": {
          "base_uri": "https://localhost:8080/",
          "height": 582
        },
        "outputId": "ed8d1664-72aa-4e90-c1e9-88641d5d5bb9"
      },
      "execution_count": null,
      "outputs": [
        {
          "output_type": "stream",
          "name": "stderr",
          "text": [
            "<ipython-input-24-dcf203754c8e>:1: SettingWithCopyWarning: \n",
            "A value is trying to be set on a copy of a slice from a DataFrame.\n",
            "Try using .loc[row_indexer,col_indexer] = value instead\n",
            "\n",
            "See the caveats in the documentation: https://pandas.pydata.org/pandas-docs/stable/user_guide/indexing.html#returning-a-view-versus-a-copy\n",
            "  cleaned_df['skeptic'] = cleaned_df[\"Length.Completionists.Average\"] - cleaned_df[\"Length.Completionists.Average\"].median() + 24\n"
          ]
        },
        {
          "output_type": "execute_result",
          "data": {
            "text/plain": [
              "0       34.875000\n",
              "2       15.108333\n",
              "4       77.675000\n",
              "5       35.141667\n",
              "6        6.358333\n",
              "          ...    \n",
              "1204    10.158333\n",
              "1206    18.241667\n",
              "1207    17.158333\n",
              "1210    17.158333\n",
              "1211     6.608333\n",
              "Name: skeptic, Length: 670, dtype: float64"
            ],
            "text/html": [
              "<div>\n",
              "<style scoped>\n",
              "    .dataframe tbody tr th:only-of-type {\n",
              "        vertical-align: middle;\n",
              "    }\n",
              "\n",
              "    .dataframe tbody tr th {\n",
              "        vertical-align: top;\n",
              "    }\n",
              "\n",
              "    .dataframe thead th {\n",
              "        text-align: right;\n",
              "    }\n",
              "</style>\n",
              "<table border=\"1\" class=\"dataframe\">\n",
              "  <thead>\n",
              "    <tr style=\"text-align: right;\">\n",
              "      <th></th>\n",
              "      <th>skeptic</th>\n",
              "    </tr>\n",
              "  </thead>\n",
              "  <tbody>\n",
              "    <tr>\n",
              "      <th>0</th>\n",
              "      <td>34.875000</td>\n",
              "    </tr>\n",
              "    <tr>\n",
              "      <th>2</th>\n",
              "      <td>15.108333</td>\n",
              "    </tr>\n",
              "    <tr>\n",
              "      <th>4</th>\n",
              "      <td>77.675000</td>\n",
              "    </tr>\n",
              "    <tr>\n",
              "      <th>5</th>\n",
              "      <td>35.141667</td>\n",
              "    </tr>\n",
              "    <tr>\n",
              "      <th>6</th>\n",
              "      <td>6.358333</td>\n",
              "    </tr>\n",
              "    <tr>\n",
              "      <th>...</th>\n",
              "      <td>...</td>\n",
              "    </tr>\n",
              "    <tr>\n",
              "      <th>1204</th>\n",
              "      <td>10.158333</td>\n",
              "    </tr>\n",
              "    <tr>\n",
              "      <th>1206</th>\n",
              "      <td>18.241667</td>\n",
              "    </tr>\n",
              "    <tr>\n",
              "      <th>1207</th>\n",
              "      <td>17.158333</td>\n",
              "    </tr>\n",
              "    <tr>\n",
              "      <th>1210</th>\n",
              "      <td>17.158333</td>\n",
              "    </tr>\n",
              "    <tr>\n",
              "      <th>1211</th>\n",
              "      <td>6.608333</td>\n",
              "    </tr>\n",
              "  </tbody>\n",
              "</table>\n",
              "<p>670 rows × 1 columns</p>\n",
              "</div><br><label><b>dtype:</b> float64</label>"
            ]
          },
          "metadata": {},
          "execution_count": 24
        }
      ]
    },
    {
      "cell_type": "code",
      "execution_count": null,
      "metadata": {
        "id": "unKuNL0hoKAN",
        "colab": {
          "base_uri": "https://localhost:8080/",
          "height": 451
        },
        "outputId": "1bb39a99-af2c-42f4-ad0c-01be94ca17f7"
      },
      "outputs": [
        {
          "output_type": "execute_result",
          "data": {
            "text/plain": [
              "<Axes: ylabel='Frequency'>"
            ]
          },
          "metadata": {},
          "execution_count": 25
        },
        {
          "output_type": "display_data",
          "data": {
            "text/plain": [
              "<Figure size 640x480 with 1 Axes>"
            ],
            "image/png": "[encoded data removed]"
          },
          "metadata": {}
        }
      ],
      "source": [
        "n = len(cleaned_df)\n",
        "sampling_dist  =[]\n",
        "for i in range(1000):\n",
        "    mysample = cleaned_df.sample(n, replace=True)\n",
        "    sampling_dist.append(mysample[\"skeptic\"].median())\n",
        "\n",
        "\n",
        "sampling_dist =  pd.DataFrame({\"median\": sampling_dist})\n",
        "sampling_dist.plot.hist()"
      ]
    },
    {
      "cell_type": "code",
      "execution_count": null,
      "metadata": {
        "id": "t_ZyR2W5oKAN",
        "colab": {
          "base_uri": "https://localhost:8080/"
        },
        "outputId": "7c47e497-916e-485f-b544-db087e2e1610"
      },
      "outputs": [
        {
          "output_type": "execute_result",
          "data": {
            "text/plain": [
              "np.float64(0.524)"
            ]
          },
          "metadata": {},
          "execution_count": 26
        }
      ],
      "source": [
        "p_value = (sampling_dist[\"median\"] <= 24).mean()\n",
        "p_value"
      ]
    },
    {
      "cell_type": "markdown",
      "source": [
        "**Interpretation of Significance Level & P-value**\n",
        "\n",
        "Significance level (α = 0.05):\n",
        "\n",
        "There is a 5% risk of rejecting our null hypothesis when it is actually true (a Type I error).\n",
        "\n",
        "P-value interpretation:\n",
        "\n",
        "Our p-value of 0.514, which is much greater than our signicance level of α=0.05, suggests that there is insufficient evidence to suggest that the true median completion time is greater than 24 hours. Therefore, we fail to reject the null hypothesis.\n"
      ],
      "metadata": {
        "id": "dkQE_hw94-Bd"
      }
    },
    {
      "cell_type": "markdown",
      "metadata": {
        "id": "J8SiMMf7oKAP"
      },
      "source": [
        "## Any other type of analysis/question you want to explore with this dataset.\n",
        "\n",
        "<u>Why?</u>: Sometimes undergraduate students will put the research projects that they did for their classes on their resumes when applying for graduate schools, internships, and jobs. If you're interested in showcasing cool analyses to write on your resume, this section could help with that. **(This section is not worth any points though).**"
      ]
    },
    {
      "cell_type": "code",
      "execution_count": null,
      "metadata": {
        "id": "mxQ1BLEcoKAQ"
      },
      "outputs": [],
      "source": []
    },
    {
      "cell_type": "code",
      "execution_count": null,
      "metadata": {
        "id": "uu-dzC-PoKAQ"
      },
      "outputs": [],
      "source": []
    },
    {
      "cell_type": "code",
      "execution_count": null,
      "metadata": {
        "id": "SQWmrxAfoKAR"
      },
      "outputs": [],
      "source": []
    },
    {
      "cell_type": "code",
      "execution_count": null,
      "metadata": {
        "id": "QsA-im8CoKAR",
        "colab": {
          "base_uri": "https://localhost:8080/",
          "height": 397
        },
        "outputId": "59c30b29-875f-462f-900c-dadd1c24813a"
      },
      "outputs": [
        {
          "output_type": "execute_result",
          "data": {
            "text/plain": [
              "0    2004\n",
              "1    2004\n",
              "2    2004\n",
              "3    2004\n",
              "4    2004\n",
              "5    2004\n",
              "6    2004\n",
              "7    2004\n",
              "8    2004\n",
              "9    2004\n",
              "Name: Release.Year, dtype: int64"
            ],
            "text/html": [
              "<div>\n",
              "<style scoped>\n",
              "    .dataframe tbody tr th:only-of-type {\n",
              "        vertical-align: middle;\n",
              "    }\n",
              "\n",
              "    .dataframe tbody tr th {\n",
              "        vertical-align: top;\n",
              "    }\n",
              "\n",
              "    .dataframe thead th {\n",
              "        text-align: right;\n",
              "    }\n",
              "</style>\n",
              "<table border=\"1\" class=\"dataframe\">\n",
              "  <thead>\n",
              "    <tr style=\"text-align: right;\">\n",
              "      <th></th>\n",
              "      <th>Release.Year</th>\n",
              "    </tr>\n",
              "  </thead>\n",
              "  <tbody>\n",
              "    <tr>\n",
              "      <th>0</th>\n",
              "      <td>2004</td>\n",
              "    </tr>\n",
              "    <tr>\n",
              "      <th>1</th>\n",
              "      <td>2004</td>\n",
              "    </tr>\n",
              "    <tr>\n",
              "      <th>2</th>\n",
              "      <td>2004</td>\n",
              "    </tr>\n",
              "    <tr>\n",
              "      <th>3</th>\n",
              "      <td>2004</td>\n",
              "    </tr>\n",
              "    <tr>\n",
              "      <th>4</th>\n",
              "      <td>2004</td>\n",
              "    </tr>\n",
              "    <tr>\n",
              "      <th>5</th>\n",
              "      <td>2004</td>\n",
              "    </tr>\n",
              "    <tr>\n",
              "      <th>6</th>\n",
              "      <td>2004</td>\n",
              "    </tr>\n",
              "    <tr>\n",
              "      <th>7</th>\n",
              "      <td>2004</td>\n",
              "    </tr>\n",
              "    <tr>\n",
              "      <th>8</th>\n",
              "      <td>2004</td>\n",
              "    </tr>\n",
              "    <tr>\n",
              "      <th>9</th>\n",
              "      <td>2004</td>\n",
              "    </tr>\n",
              "  </tbody>\n",
              "</table>\n",
              "</div><br><label><b>dtype:</b> int64</label>"
            ]
          },
          "metadata": {},
          "execution_count": 34
        }
      ],
      "source": [
        "df[\"Release.Year\"].nsmallest(10)"
      ]
    },
    {
      "cell_type": "code",
      "execution_count": null,
      "metadata": {
        "id": "Jdd7EjKioKAR"
      },
      "outputs": [],
      "source": []
    },
    {
      "cell_type": "code",
      "execution_count": null,
      "metadata": {
        "id": "w24j8YcNoKAS"
      },
      "outputs": [],
      "source": []
    },
    {
      "cell_type": "code",
      "execution_count": null,
      "metadata": {
        "id": "EooU2W2-oKAS"
      },
      "outputs": [],
      "source": []
    },
    {
      "cell_type": "code",
      "execution_count": null,
      "metadata": {
        "id": "PP_bFIjwoKAT"
      },
      "outputs": [],
      "source": []
    },
    {
      "cell_type": "code",
      "execution_count": null,
      "metadata": {
        "id": "6m1hfxKYoKAT"
      },
      "outputs": [],
      "source": []
    },
    {
      "cell_type": "markdown",
      "metadata": {
        "id": "T2gTWc7HoKAT"
      },
      "source": [
        "## 4. Conclusion"
      ]
    },
    {
      "cell_type": "markdown",
      "metadata": {
        "id": "Yg2Q_cKpoKAU"
      },
      "source": [
        "a. Our first research question was: What is the proportion of the video games in our dataset are rated by ESRB as 'M' for mature, and what is a range of reasonable values for the proportion of all the video games that released after 2000 that are rated by ESRB as 'M' for mature? To answer this two-parted question, we first calculated the proportion of 'M' rated video games in our dataset, then decided to generate a 90% confidence interval based on a sampling distribution of our dataset. We returned the value range of (18.81%, 22.69%), indicating that we are 90% confident that the true population proportion of all video games released after 2000 rated 'M' is contained within the above interval.\n",
        "\n",
        "Our second research question was: Is the mean time that players reported completing everything in the each of the game of all video games released after 2000, in hours, higher than 24 hours? To fully answer this question, we first cleaned the dataset, then observed summary measures such as shape, spread, and center. After deciding to use median as the measure of center for our research question, we adopted a sampling distribution to the null hypothesis, chose a significance value of 0.05, and returned a p-value of 0.514. Based on this result, we fail to reject the null hypothesis which states that median video game completion time is less than or equal to 24 hours.\n",
        "\n",
        "b. In our data analysis, results, and interpretations, our group faced several limitations. The most significant limitation of our project was our data: a crowd-sourced dataset regarding video games released between 2000 and 2010. The dataset's crowd-sourced nature and out-of-date status limits the claims we can make from the dataset. We would prefer a larger sample including more current video games to draw more sweeping, broadly applicable results from our research. Additionally, we struggled in selecting a percentage for our confidence interval and a significance level for our hypothesis testing. We eventually chose values of 90% and 0.05 because they are commonly used in the data science world, but felt uncomfortable that our largely arbitrarily selected confidence interval and significance level could create a potentially meaningful difference in the results of our research.\n",
        "\n",
        "c. If we were to conduct future work based on these analyses, we would formulate new research questions to reflect our recent findings. First, we would like to analyze a dataset containing the population of gamers collected between the years 2000 and 2010 to answer the question: What is the proportion of gamers in the gamer population who are 17 or older? We are curious to answer this question to observe whether the proportion of gamers who are 17+ aligns with the proportion of video games that are rated 'M'.\n",
        "\n",
        "Additionally, in the future we would like to ask the research question Is the mean time that players reported completing everything in the each of the games, in hours, higher than 24 hours for all video games released between 2010 and 2020? We would like to answer this question so that we could draw comparisons between video game completion times released between 2000 and 2010 and games released more recently."
      ]
    }
  ],
  "metadata": {
    "kernelspec": {
      "display_name": "Python 3 (ipykernel)",
      "language": "python",
      "name": "python3"
    },
    "language_info": {
      "codemirror_mode": {
        "name": "ipython",
        "version": 3
      },
      "file_extension": ".py",
      "mimetype": "text/x-python",
      "name": "python",
      "nbconvert_exporter": "python",
      "pygments_lexer": "ipython3",
      "version": "3.8.11"
    },
    "colab": {
      "provenance": []
    }
  },
  "nbformat": 4,
  "nbformat_minor": 0
}